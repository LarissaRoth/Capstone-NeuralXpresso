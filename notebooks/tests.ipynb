{
 "cells": [
  {
   "cell_type": "code",
   "execution_count": 1,
   "metadata": {},
   "outputs": [
    {
     "name": "stderr",
     "output_type": "stream",
     "text": [
      "/Users/mahaabu-khousa/neuefische/NeuralXpresso/.venv/lib/python3.9/site-packages/tqdm/auto.py:21: TqdmWarning: IProgress not found. Please update jupyter and ipywidgets. See https://ipywidgets.readthedocs.io/en/stable/user_install.html\n",
      "  from .autonotebook import tqdm as notebook_tqdm\n"
     ]
    }
   ],
   "source": []
  },
  {
   "cell_type": "code",
   "execution_count": 61,
   "metadata": {},
   "outputs": [],
   "source": [
    "import neuralxpresso as nx\n",
    "import plots as plots\n",
    "from plotly.subplots import make_subplots\n",
    "YT_LINK = 'https://www.youtube.com/watch?v=2ka4Rpq9KCw&ab_channel=Blinderskin'\n",
    "nx_session = nx.NeuralXpressoSession(yt_link=YT_LINK)\n",
    "result = nx_session.run_analysis(video_output=True)\n",
    "\n",
    "\n"
   ]
  },
  {
   "cell_type": "code",
   "execution_count": 40,
   "metadata": {},
   "outputs": [
    {
     "name": "stdout",
     "output_type": "stream",
     "text": [
      "1/1 [==============================] - 0s 304ms/step\n"
     ]
    },
    {
     "name": "stderr",
     "output_type": "stream",
     "text": [
      "2023-03-29 18:34:18.471662: I tensorflow/core/grappler/optimizers/custom_graph_optimizer_registry.cc:114] Plugin optimizer for device_type GPU is enabled.\n"
     ]
    },
    {
     "name": "stdout",
     "output_type": "stream",
     "text": [
      "1/1 [==============================] - 0s 16ms/step\n",
      "1/1 [==============================] - 0s 16ms/step\n",
      "1/1 [==============================] - 0s 14ms/step\n",
      "1/1 [==============================] - 0s 14ms/step\n",
      "1/1 [==============================] - 0s 14ms/step\n",
      "1/1 [==============================] - 0s 15ms/step\n",
      "1/1 [==============================] - 0s 23ms/step\n",
      "1/1 [==============================] - 0s 14ms/step\n",
      "1/1 [==============================] - 0s 14ms/step\n",
      "1/1 [==============================] - 0s 15ms/step\n",
      "1/1 [==============================] - 0s 15ms/step\n",
      "1/1 [==============================] - 0s 14ms/step\n",
      "1/1 [==============================] - 0s 14ms/step\n",
      "1/1 [==============================] - 0s 18ms/step\n",
      "1/1 [==============================] - 0s 15ms/step\n",
      "1/1 [==============================] - 0s 14ms/step\n",
      "1/1 [==============================] - 0s 15ms/step\n",
      "1/1 [==============================] - 0s 14ms/step\n",
      "1/1 [==============================] - 0s 14ms/step\n",
      "1/1 [==============================] - 0s 15ms/step\n",
      "1/1 [==============================] - 0s 14ms/step\n",
      "1/1 [==============================] - 0s 14ms/step\n",
      "1/1 [==============================] - 0s 14ms/step\n",
      "1/1 [==============================] - 0s 14ms/step\n",
      "1/1 [==============================] - 0s 14ms/step\n",
      "1/1 [==============================] - 0s 14ms/step\n",
      "1/1 [==============================] - 0s 14ms/step\n"
     ]
    }
   ],
   "source": []
  },
  {
   "cell_type": "code",
   "execution_count": 41,
   "metadata": {},
   "outputs": [
    {
     "data": {
      "text/html": [
       "<div>\n",
       "<style scoped>\n",
       "    .dataframe tbody tr th:only-of-type {\n",
       "        vertical-align: middle;\n",
       "    }\n",
       "\n",
       "    .dataframe tbody tr th {\n",
       "        vertical-align: top;\n",
       "    }\n",
       "\n",
       "    .dataframe thead th {\n",
       "        text-align: right;\n",
       "    }\n",
       "</style>\n",
       "<table border=\"1\" class=\"dataframe\">\n",
       "  <thead>\n",
       "    <tr style=\"text-align: right;\">\n",
       "      <th></th>\n",
       "      <th>frame</th>\n",
       "      <th>emotion</th>\n",
       "      <th>probability</th>\n",
       "    </tr>\n",
       "  </thead>\n",
       "  <tbody>\n",
       "    <tr>\n",
       "      <th>0</th>\n",
       "      <td>1</td>\n",
       "      <td>Angry</td>\n",
       "      <td>0.047856</td>\n",
       "    </tr>\n",
       "    <tr>\n",
       "      <th>1</th>\n",
       "      <td>2</td>\n",
       "      <td>Angry</td>\n",
       "      <td>0.062015</td>\n",
       "    </tr>\n",
       "    <tr>\n",
       "      <th>2</th>\n",
       "      <td>3</td>\n",
       "      <td>Angry</td>\n",
       "      <td>0.061258</td>\n",
       "    </tr>\n",
       "    <tr>\n",
       "      <th>3</th>\n",
       "      <td>4</td>\n",
       "      <td>Angry</td>\n",
       "      <td>0.036009</td>\n",
       "    </tr>\n",
       "    <tr>\n",
       "      <th>4</th>\n",
       "      <td>5</td>\n",
       "      <td>Angry</td>\n",
       "      <td>0.031063</td>\n",
       "    </tr>\n",
       "    <tr>\n",
       "      <th>...</th>\n",
       "      <td>...</td>\n",
       "      <td>...</td>\n",
       "      <td>...</td>\n",
       "    </tr>\n",
       "    <tr>\n",
       "      <th>233</th>\n",
       "      <td>30</td>\n",
       "      <td>Neutral</td>\n",
       "      <td>0.297270</td>\n",
       "    </tr>\n",
       "    <tr>\n",
       "      <th>234</th>\n",
       "      <td>31</td>\n",
       "      <td>Neutral</td>\n",
       "      <td>0.243101</td>\n",
       "    </tr>\n",
       "    <tr>\n",
       "      <th>235</th>\n",
       "      <td>32</td>\n",
       "      <td>Neutral</td>\n",
       "      <td>0.330055</td>\n",
       "    </tr>\n",
       "    <tr>\n",
       "      <th>236</th>\n",
       "      <td>33</td>\n",
       "      <td>Neutral</td>\n",
       "      <td>0.208880</td>\n",
       "    </tr>\n",
       "    <tr>\n",
       "      <th>237</th>\n",
       "      <td>34</td>\n",
       "      <td>Neutral</td>\n",
       "      <td>0.000000</td>\n",
       "    </tr>\n",
       "  </tbody>\n",
       "</table>\n",
       "<p>238 rows × 3 columns</p>\n",
       "</div>"
      ],
      "text/plain": [
       "     frame  emotion  probability\n",
       "0        1    Angry     0.047856\n",
       "1        2    Angry     0.062015\n",
       "2        3    Angry     0.061258\n",
       "3        4    Angry     0.036009\n",
       "4        5    Angry     0.031063\n",
       "..     ...      ...          ...\n",
       "233     30  Neutral     0.297270\n",
       "234     31  Neutral     0.243101\n",
       "235     32  Neutral     0.330055\n",
       "236     33  Neutral     0.208880\n",
       "237     34  Neutral     0.000000\n",
       "\n",
       "[238 rows x 3 columns]"
      ]
     },
     "execution_count": 41,
     "metadata": {},
     "output_type": "execute_result"
    }
   ],
   "source": [
    "result['new_export']['main_character_data'][1]"
   ]
  },
  {
   "cell_type": "code",
   "execution_count": 43,
   "metadata": {},
   "outputs": [],
   "source": [
    "import plotly.express as px"
   ]
  },
  {
   "cell_type": "code",
   "execution_count": 35,
   "metadata": {},
   "outputs": [],
   "source": [
    "def get_character_overview(df_video, ID, result):\n",
    "\n",
    "    '''\n",
    "    This stacks together:\n",
    "        1. Portrait\n",
    "        2. Timeseries for 1 character\n",
    "        3. Radar_plot for 1 character\n",
    "\n",
    "        Iteration over characters happens in app.py\n",
    "    '''\n",
    "    df_max_rows = df_video.groupby('frame')['probability'].idxmax().reset_index()\n",
    "    df_max_probs = df_video.loc[df_max_rows['probability']]\n",
    "    df_radar = plots.get_df_radar(df_video)\n",
    "\n",
    "\n",
    "    fig_radar = plots.get_radar_plot(df_radar)\n",
    "    fig_area = plots.get_emotion_landscape(df_video)\n",
    "    fig_strongest_emotion = plots.get_strongest_emotions_plot(df_max_probs)\n",
    "\n",
    "    fig = make_subplots(rows=3, cols=2, specs=[[{'type': 'image'}, {'type': 'polar'}],[{'type': 'xy', 'colspan':2},None], [{'type': 'xy', 'colspan':2},None]], horizontal_spacing=0.1, vertical_spacing=0.15)\n",
    "\n",
    "\n",
    "    # Add trace1, trace2, and the image to their respective subplots\n",
    "    image_array = result['portraits'][ID]\n",
    "    fig.add_trace(px.imshow(image_array, ).data[0], row=1, col=1)\n",
    "    fig.add_trace(fig_radar.data[0], row=1, col=2)\n",
    "\n",
    "    for i in range(7):\n",
    "        fig.add_trace(fig_area.data[i], row=2, col=1)\n",
    "\n",
    "    for i in range(7):\n",
    "        fig.add_trace(fig_strongest_emotion.data[i], row=3, col=1)\n",
    "        \n",
    "    fig.update_layout(\n",
    "            polar=dict(\n",
    "                domain=dict(y=[0.5, 1]),\n",
    "                radialaxis=dict(\n",
    "                    showticklabels=False,  \n",
    "                ),\n",
    "                angularaxis=dict(\n",
    "                    tickfont=dict(size=14),\n",
    "                    rotation=90,\n",
    "                    direction='clockwise'\n",
    "                )\n",
    "            ),\n",
    "\n",
    "            showlegend=True,\n",
    "            legend=dict(\n",
    "            x=1.1,\n",
    "            y=0,\n",
    "            xanchor='left',\n",
    "            yanchor='bottom',\n",
    "            title_font=dict(size=12),\n",
    "            orientation='v',\n",
    "            traceorder='reversed'\n",
    "            ),\n",
    "\n",
    "            margin=dict(t=80, b=50, l=50, r=50),\n",
    "            font=dict(size=12),\n",
    "\n",
    "            # Add the title above the image\n",
    "            annotations=[\n",
    "                dict(\n",
    "                    text=f'Character: {ID}',\n",
    "                    xref='x domain',\n",
    "                    yref='y domain',\n",
    "                    x=0.5,\n",
    "                    y=1.2,\n",
    "                    showarrow=False,\n",
    "                    font=dict(size=16),\n",
    "                )\n",
    "            ],\n",
    "        )\n",
    "\n",
    "\n",
    "    fig.update_xaxes(showticklabels=False, zeroline=False, visible=False, row=1, col=1)\n",
    "    fig.update_yaxes(showticklabels=False, zeroline=False, visible=False, row=1, col=1)\n",
    "\n",
    "    fig.update_xaxes(title_text=\"Frame Count\", title_font=dict(size=12), title_standoff=8, row=2, col=1)\n",
    "    fig.update_yaxes(title_text=\"Emotion Probability\", title_font=dict(size=12), title_standoff=8, tickmode='linear', dtick=0.2, row=2, col=1)\n",
    "\n",
    "    fig.update_xaxes(title_text=\"Emotion Counts\", row=1, col=3)\n",
    "    fig.update_yaxes(title_text=\"Prevalence\", row=1, col=3)\n",
    "\n",
    "\n",
    "    return fig"
   ]
  },
  {
   "cell_type": "code",
   "execution_count": 14,
   "metadata": {},
   "outputs": [],
   "source": [
    "df_max_rows = df.groupby('frame')['probability'].idxmax().reset_index()\n",
    "df_max_probs = df.loc[df_max_rows['probability']]"
   ]
  },
  {
   "cell_type": "code",
   "execution_count": 67,
   "metadata": {},
   "outputs": [],
   "source": [
    "def get_strongest_emotions_plot(df):\n",
    "    df_max_rows = df.groupby('frame')['probability'].idxmax().reset_index()\n",
    "    df_max_probs = df.loc[df_max_rows['probability']]\n",
    "\n",
    "    fig = px.bar(df_max_probs, x='frame', y='probability', color='emotion', \n",
    "                color_discrete_sequence=cb_palette, hover_data={\"text\": df_max_probs['emotion']})\n",
    "\n",
    "    # Update the layout\n",
    "    fig.update_layout(   \n",
    "        title={\n",
    "            'text': 'Strongest Emotion per frame',\n",
    "            'font': {'size': 24, 'color': 'black'},\n",
    "            'x': 0.5,\n",
    "            'y': 0.9,\n",
    "            'yanchor': 'middle'\n",
    "        },\n",
    "        xaxis_title='Frame',\n",
    "        yaxis_title='Probability',\n",
    "        legend_title='Emotion',\n",
    "        font=dict(family='Arial', size=14),\n",
    "        margin=dict(l=50, r=50, t=100, b=50),\n",
    "        plot_bgcolor='white'\n",
    "    )\n",
    "\n",
    "    # Update the legend with customizations\n",
    "    fig.update_traces(\n",
    "        hovertemplate='<br>'.join([\n",
    "            'Emotion: %{fullData.name}',\n",
    "            'Frame: %{x}',\n",
    "            'Probability: %{y:.2f}'\n",
    "        ]),\n",
    "        hoverlabel=dict(bgcolor='white', font_size=14),\n",
    "        showlegend=True,\n",
    "        hoverinfo='all'\n",
    "    )\n",
    "\n",
    "    return fig\n"
   ]
  },
  {
   "cell_type": "code",
   "execution_count": 68,
   "metadata": {},
   "outputs": [
    {
     "data": {
      "text/html": [
       "<div>\n",
       "<style scoped>\n",
       "    .dataframe tbody tr th:only-of-type {\n",
       "        vertical-align: middle;\n",
       "    }\n",
       "\n",
       "    .dataframe tbody tr th {\n",
       "        vertical-align: top;\n",
       "    }\n",
       "\n",
       "    .dataframe thead th {\n",
       "        text-align: right;\n",
       "    }\n",
       "</style>\n",
       "<table border=\"1\" class=\"dataframe\">\n",
       "  <thead>\n",
       "    <tr style=\"text-align: right;\">\n",
       "      <th></th>\n",
       "      <th>frame</th>\n",
       "      <th>emotion</th>\n",
       "      <th>probability</th>\n",
       "    </tr>\n",
       "  </thead>\n",
       "  <tbody>\n",
       "    <tr>\n",
       "      <th>0</th>\n",
       "      <td>1</td>\n",
       "      <td>Angry</td>\n",
       "      <td>0.047856</td>\n",
       "    </tr>\n",
       "    <tr>\n",
       "      <th>1</th>\n",
       "      <td>2</td>\n",
       "      <td>Angry</td>\n",
       "      <td>0.062015</td>\n",
       "    </tr>\n",
       "    <tr>\n",
       "      <th>2</th>\n",
       "      <td>3</td>\n",
       "      <td>Angry</td>\n",
       "      <td>0.061258</td>\n",
       "    </tr>\n",
       "    <tr>\n",
       "      <th>3</th>\n",
       "      <td>4</td>\n",
       "      <td>Angry</td>\n",
       "      <td>0.036009</td>\n",
       "    </tr>\n",
       "    <tr>\n",
       "      <th>4</th>\n",
       "      <td>5</td>\n",
       "      <td>Angry</td>\n",
       "      <td>0.031063</td>\n",
       "    </tr>\n",
       "    <tr>\n",
       "      <th>...</th>\n",
       "      <td>...</td>\n",
       "      <td>...</td>\n",
       "      <td>...</td>\n",
       "    </tr>\n",
       "    <tr>\n",
       "      <th>233</th>\n",
       "      <td>30</td>\n",
       "      <td>Neutral</td>\n",
       "      <td>0.297270</td>\n",
       "    </tr>\n",
       "    <tr>\n",
       "      <th>234</th>\n",
       "      <td>31</td>\n",
       "      <td>Neutral</td>\n",
       "      <td>0.243101</td>\n",
       "    </tr>\n",
       "    <tr>\n",
       "      <th>235</th>\n",
       "      <td>32</td>\n",
       "      <td>Neutral</td>\n",
       "      <td>0.330055</td>\n",
       "    </tr>\n",
       "    <tr>\n",
       "      <th>236</th>\n",
       "      <td>33</td>\n",
       "      <td>Neutral</td>\n",
       "      <td>0.208880</td>\n",
       "    </tr>\n",
       "    <tr>\n",
       "      <th>237</th>\n",
       "      <td>34</td>\n",
       "      <td>Neutral</td>\n",
       "      <td>0.000000</td>\n",
       "    </tr>\n",
       "  </tbody>\n",
       "</table>\n",
       "<p>238 rows × 3 columns</p>\n",
       "</div>"
      ],
      "text/plain": [
       "     frame  emotion  probability\n",
       "0        1    Angry     0.047856\n",
       "1        2    Angry     0.062015\n",
       "2        3    Angry     0.061258\n",
       "3        4    Angry     0.036009\n",
       "4        5    Angry     0.031063\n",
       "..     ...      ...          ...\n",
       "233     30  Neutral     0.297270\n",
       "234     31  Neutral     0.243101\n",
       "235     32  Neutral     0.330055\n",
       "236     33  Neutral     0.208880\n",
       "237     34  Neutral     0.000000\n",
       "\n",
       "[238 rows x 3 columns]"
      ]
     },
     "execution_count": 68,
     "metadata": {},
     "output_type": "execute_result"
    }
   ],
   "source": [
    "df = result['new_export']['main_character_data'][1]\n",
    "df"
   ]
  },
  {
   "cell_type": "code",
   "execution_count": 70,
   "metadata": {},
   "outputs": [
    {
     "data": {
      "application/vnd.plotly.v1+json": {
       "config": {
        "plotlyServerURL": "https://plot.ly"
       },
       "data": [
        {
         "alignmentgroup": "True",
         "customdata": [
          [
           "Sad"
          ],
          [
           "Sad"
          ],
          [
           "Sad"
          ],
          [
           "Sad"
          ],
          [
           "Sad"
          ]
         ],
         "hoverinfo": "all",
         "hoverlabel": {
          "bgcolor": "white",
          "font": {
           "size": 14
          }
         },
         "hovertemplate": "Emotion: %{fullData.name}<br>Frame: %{x}<br>Probability: %{y:.2f}",
         "legendgroup": "Sad",
         "marker": {
          "color": "#40E0D0",
          "pattern": {
           "shape": ""
          }
         },
         "name": "Sad",
         "offsetgroup": "Sad",
         "orientation": "v",
         "showlegend": true,
         "textposition": "auto",
         "type": "bar",
         "x": [
          1,
          2,
          4,
          13,
          33
         ],
         "xaxis": "x",
         "y": [
          0.3189499080181122,
          0.4360528290271759,
          0.4053875505924225,
          0.36728909611701965,
          0.5169697999954224
         ],
         "yaxis": "y"
        },
        {
         "alignmentgroup": "True",
         "customdata": [
          [
           "Neutral"
          ],
          [
           "Neutral"
          ],
          [
           "Neutral"
          ]
         ],
         "hoverinfo": "all",
         "hoverlabel": {
          "bgcolor": "white",
          "font": {
           "size": 14
          }
         },
         "hovertemplate": "Emotion: %{fullData.name}<br>Frame: %{x}<br>Probability: %{y:.2f}",
         "legendgroup": "Neutral",
         "marker": {
          "color": "#ff7f00",
          "pattern": {
           "shape": ""
          }
         },
         "name": "Neutral",
         "offsetgroup": "Neutral",
         "orientation": "v",
         "showlegend": true,
         "textposition": "auto",
         "type": "bar",
         "x": [
          3,
          28,
          32
         ],
         "xaxis": "x",
         "y": [
          0.307345986366272,
          0.4531581401824951,
          0.33005478978157043
         ],
         "yaxis": "y"
        },
        {
         "alignmentgroup": "True",
         "customdata": [
          [
           "Happy"
          ],
          [
           "Happy"
          ],
          [
           "Happy"
          ],
          [
           "Happy"
          ]
         ],
         "hoverinfo": "all",
         "hoverlabel": {
          "bgcolor": "white",
          "font": {
           "size": 14
          }
         },
         "hovertemplate": "Emotion: %{fullData.name}<br>Frame: %{x}<br>Probability: %{y:.2f}",
         "legendgroup": "Happy",
         "marker": {
          "color": "#9370DB",
          "pattern": {
           "shape": ""
          }
         },
         "name": "Happy",
         "offsetgroup": "Happy",
         "orientation": "v",
         "showlegend": true,
         "textposition": "auto",
         "type": "bar",
         "x": [
          5,
          14,
          29,
          30
         ],
         "xaxis": "x",
         "y": [
          0.5896056294441223,
          0.5703635215759277,
          0.43632972240448,
          0.3055012822151184
         ],
         "yaxis": "y"
        },
        {
         "alignmentgroup": "True",
         "customdata": [
          [
           "Angry"
          ],
          [
           "Angry"
          ],
          [
           "Angry"
          ],
          [
           "Angry"
          ],
          [
           "Angry"
          ],
          [
           "Angry"
          ],
          [
           "Angry"
          ],
          [
           "Angry"
          ],
          [
           "Angry"
          ],
          [
           "Angry"
          ],
          [
           "Angry"
          ],
          [
           "Angry"
          ],
          [
           "Angry"
          ],
          [
           "Angry"
          ],
          [
           "Angry"
          ],
          [
           "Angry"
          ],
          [
           "Angry"
          ],
          [
           "Angry"
          ],
          [
           "Angry"
          ],
          [
           "Angry"
          ],
          [
           "Angry"
          ]
         ],
         "hoverinfo": "all",
         "hoverlabel": {
          "bgcolor": "white",
          "font": {
           "size": 14
          }
         },
         "hovertemplate": "Emotion: %{fullData.name}<br>Frame: %{x}<br>Probability: %{y:.2f}",
         "legendgroup": "Angry",
         "marker": {
          "color": "#CA3435",
          "pattern": {
           "shape": ""
          }
         },
         "name": "Angry",
         "offsetgroup": "Angry",
         "orientation": "v",
         "showlegend": true,
         "textposition": "auto",
         "type": "bar",
         "x": [
          6,
          7,
          8,
          9,
          10,
          11,
          12,
          15,
          16,
          17,
          18,
          19,
          20,
          21,
          22,
          23,
          24,
          25,
          26,
          27,
          34
         ],
         "xaxis": "x",
         "y": [
          0,
          0,
          0,
          0,
          0,
          0,
          0,
          0,
          0,
          0,
          0,
          0,
          0,
          0,
          0,
          0,
          0,
          0,
          0,
          0,
          0
         ],
         "yaxis": "y"
        },
        {
         "alignmentgroup": "True",
         "customdata": [
          [
           "Fear"
          ]
         ],
         "hoverinfo": "all",
         "hoverlabel": {
          "bgcolor": "white",
          "font": {
           "size": 14
          }
         },
         "hovertemplate": "Emotion: %{fullData.name}<br>Frame: %{x}<br>Probability: %{y:.2f}",
         "legendgroup": "Fear",
         "marker": {
          "color": "#1f77b4",
          "pattern": {
           "shape": ""
          }
         },
         "name": "Fear",
         "offsetgroup": "Fear",
         "orientation": "v",
         "showlegend": true,
         "textposition": "auto",
         "type": "bar",
         "x": [
          31
         ],
         "xaxis": "x",
         "y": [
          0.33098310232162476
         ],
         "yaxis": "y"
        }
       ],
       "layout": {
        "barmode": "relative",
        "font": {
         "family": "Arial",
         "size": 14
        },
        "legend": {
         "title": {
          "text": "Emotion"
         },
         "tracegroupgap": 0
        },
        "margin": {
         "b": 50,
         "l": 50,
         "r": 50,
         "t": 100
        },
        "plot_bgcolor": "white",
        "template": {
         "data": {
          "bar": [
           {
            "error_x": {
             "color": "#2a3f5f"
            },
            "error_y": {
             "color": "#2a3f5f"
            },
            "marker": {
             "line": {
              "color": "#E5ECF6",
              "width": 0.5
             },
             "pattern": {
              "fillmode": "overlay",
              "size": 10,
              "solidity": 0.2
             }
            },
            "type": "bar"
           }
          ],
          "barpolar": [
           {
            "marker": {
             "line": {
              "color": "#E5ECF6",
              "width": 0.5
             },
             "pattern": {
              "fillmode": "overlay",
              "size": 10,
              "solidity": 0.2
             }
            },
            "type": "barpolar"
           }
          ],
          "carpet": [
           {
            "aaxis": {
             "endlinecolor": "#2a3f5f",
             "gridcolor": "white",
             "linecolor": "white",
             "minorgridcolor": "white",
             "startlinecolor": "#2a3f5f"
            },
            "baxis": {
             "endlinecolor": "#2a3f5f",
             "gridcolor": "white",
             "linecolor": "white",
             "minorgridcolor": "white",
             "startlinecolor": "#2a3f5f"
            },
            "type": "carpet"
           }
          ],
          "choropleth": [
           {
            "colorbar": {
             "outlinewidth": 0,
             "ticks": ""
            },
            "type": "choropleth"
           }
          ],
          "contour": [
           {
            "colorbar": {
             "outlinewidth": 0,
             "ticks": ""
            },
            "colorscale": [
             [
              0,
              "#0d0887"
             ],
             [
              0.1111111111111111,
              "#46039f"
             ],
             [
              0.2222222222222222,
              "#7201a8"
             ],
             [
              0.3333333333333333,
              "#9c179e"
             ],
             [
              0.4444444444444444,
              "#bd3786"
             ],
             [
              0.5555555555555556,
              "#d8576b"
             ],
             [
              0.6666666666666666,
              "#ed7953"
             ],
             [
              0.7777777777777778,
              "#fb9f3a"
             ],
             [
              0.8888888888888888,
              "#fdca26"
             ],
             [
              1,
              "#f0f921"
             ]
            ],
            "type": "contour"
           }
          ],
          "contourcarpet": [
           {
            "colorbar": {
             "outlinewidth": 0,
             "ticks": ""
            },
            "type": "contourcarpet"
           }
          ],
          "heatmap": [
           {
            "colorbar": {
             "outlinewidth": 0,
             "ticks": ""
            },
            "colorscale": [
             [
              0,
              "#0d0887"
             ],
             [
              0.1111111111111111,
              "#46039f"
             ],
             [
              0.2222222222222222,
              "#7201a8"
             ],
             [
              0.3333333333333333,
              "#9c179e"
             ],
             [
              0.4444444444444444,
              "#bd3786"
             ],
             [
              0.5555555555555556,
              "#d8576b"
             ],
             [
              0.6666666666666666,
              "#ed7953"
             ],
             [
              0.7777777777777778,
              "#fb9f3a"
             ],
             [
              0.8888888888888888,
              "#fdca26"
             ],
             [
              1,
              "#f0f921"
             ]
            ],
            "type": "heatmap"
           }
          ],
          "heatmapgl": [
           {
            "colorbar": {
             "outlinewidth": 0,
             "ticks": ""
            },
            "colorscale": [
             [
              0,
              "#0d0887"
             ],
             [
              0.1111111111111111,
              "#46039f"
             ],
             [
              0.2222222222222222,
              "#7201a8"
             ],
             [
              0.3333333333333333,
              "#9c179e"
             ],
             [
              0.4444444444444444,
              "#bd3786"
             ],
             [
              0.5555555555555556,
              "#d8576b"
             ],
             [
              0.6666666666666666,
              "#ed7953"
             ],
             [
              0.7777777777777778,
              "#fb9f3a"
             ],
             [
              0.8888888888888888,
              "#fdca26"
             ],
             [
              1,
              "#f0f921"
             ]
            ],
            "type": "heatmapgl"
           }
          ],
          "histogram": [
           {
            "marker": {
             "pattern": {
              "fillmode": "overlay",
              "size": 10,
              "solidity": 0.2
             }
            },
            "type": "histogram"
           }
          ],
          "histogram2d": [
           {
            "colorbar": {
             "outlinewidth": 0,
             "ticks": ""
            },
            "colorscale": [
             [
              0,
              "#0d0887"
             ],
             [
              0.1111111111111111,
              "#46039f"
             ],
             [
              0.2222222222222222,
              "#7201a8"
             ],
             [
              0.3333333333333333,
              "#9c179e"
             ],
             [
              0.4444444444444444,
              "#bd3786"
             ],
             [
              0.5555555555555556,
              "#d8576b"
             ],
             [
              0.6666666666666666,
              "#ed7953"
             ],
             [
              0.7777777777777778,
              "#fb9f3a"
             ],
             [
              0.8888888888888888,
              "#fdca26"
             ],
             [
              1,
              "#f0f921"
             ]
            ],
            "type": "histogram2d"
           }
          ],
          "histogram2dcontour": [
           {
            "colorbar": {
             "outlinewidth": 0,
             "ticks": ""
            },
            "colorscale": [
             [
              0,
              "#0d0887"
             ],
             [
              0.1111111111111111,
              "#46039f"
             ],
             [
              0.2222222222222222,
              "#7201a8"
             ],
             [
              0.3333333333333333,
              "#9c179e"
             ],
             [
              0.4444444444444444,
              "#bd3786"
             ],
             [
              0.5555555555555556,
              "#d8576b"
             ],
             [
              0.6666666666666666,
              "#ed7953"
             ],
             [
              0.7777777777777778,
              "#fb9f3a"
             ],
             [
              0.8888888888888888,
              "#fdca26"
             ],
             [
              1,
              "#f0f921"
             ]
            ],
            "type": "histogram2dcontour"
           }
          ],
          "mesh3d": [
           {
            "colorbar": {
             "outlinewidth": 0,
             "ticks": ""
            },
            "type": "mesh3d"
           }
          ],
          "parcoords": [
           {
            "line": {
             "colorbar": {
              "outlinewidth": 0,
              "ticks": ""
             }
            },
            "type": "parcoords"
           }
          ],
          "pie": [
           {
            "automargin": true,
            "type": "pie"
           }
          ],
          "scatter": [
           {
            "fillpattern": {
             "fillmode": "overlay",
             "size": 10,
             "solidity": 0.2
            },
            "type": "scatter"
           }
          ],
          "scatter3d": [
           {
            "line": {
             "colorbar": {
              "outlinewidth": 0,
              "ticks": ""
             }
            },
            "marker": {
             "colorbar": {
              "outlinewidth": 0,
              "ticks": ""
             }
            },
            "type": "scatter3d"
           }
          ],
          "scattercarpet": [
           {
            "marker": {
             "colorbar": {
              "outlinewidth": 0,
              "ticks": ""
             }
            },
            "type": "scattercarpet"
           }
          ],
          "scattergeo": [
           {
            "marker": {
             "colorbar": {
              "outlinewidth": 0,
              "ticks": ""
             }
            },
            "type": "scattergeo"
           }
          ],
          "scattergl": [
           {
            "marker": {
             "colorbar": {
              "outlinewidth": 0,
              "ticks": ""
             }
            },
            "type": "scattergl"
           }
          ],
          "scattermapbox": [
           {
            "marker": {
             "colorbar": {
              "outlinewidth": 0,
              "ticks": ""
             }
            },
            "type": "scattermapbox"
           }
          ],
          "scatterpolar": [
           {
            "marker": {
             "colorbar": {
              "outlinewidth": 0,
              "ticks": ""
             }
            },
            "type": "scatterpolar"
           }
          ],
          "scatterpolargl": [
           {
            "marker": {
             "colorbar": {
              "outlinewidth": 0,
              "ticks": ""
             }
            },
            "type": "scatterpolargl"
           }
          ],
          "scatterternary": [
           {
            "marker": {
             "colorbar": {
              "outlinewidth": 0,
              "ticks": ""
             }
            },
            "type": "scatterternary"
           }
          ],
          "surface": [
           {
            "colorbar": {
             "outlinewidth": 0,
             "ticks": ""
            },
            "colorscale": [
             [
              0,
              "#0d0887"
             ],
             [
              0.1111111111111111,
              "#46039f"
             ],
             [
              0.2222222222222222,
              "#7201a8"
             ],
             [
              0.3333333333333333,
              "#9c179e"
             ],
             [
              0.4444444444444444,
              "#bd3786"
             ],
             [
              0.5555555555555556,
              "#d8576b"
             ],
             [
              0.6666666666666666,
              "#ed7953"
             ],
             [
              0.7777777777777778,
              "#fb9f3a"
             ],
             [
              0.8888888888888888,
              "#fdca26"
             ],
             [
              1,
              "#f0f921"
             ]
            ],
            "type": "surface"
           }
          ],
          "table": [
           {
            "cells": {
             "fill": {
              "color": "#EBF0F8"
             },
             "line": {
              "color": "white"
             }
            },
            "header": {
             "fill": {
              "color": "#C8D4E3"
             },
             "line": {
              "color": "white"
             }
            },
            "type": "table"
           }
          ]
         },
         "layout": {
          "annotationdefaults": {
           "arrowcolor": "#2a3f5f",
           "arrowhead": 0,
           "arrowwidth": 1
          },
          "autotypenumbers": "strict",
          "coloraxis": {
           "colorbar": {
            "outlinewidth": 0,
            "ticks": ""
           }
          },
          "colorscale": {
           "diverging": [
            [
             0,
             "#8e0152"
            ],
            [
             0.1,
             "#c51b7d"
            ],
            [
             0.2,
             "#de77ae"
            ],
            [
             0.3,
             "#f1b6da"
            ],
            [
             0.4,
             "#fde0ef"
            ],
            [
             0.5,
             "#f7f7f7"
            ],
            [
             0.6,
             "#e6f5d0"
            ],
            [
             0.7,
             "#b8e186"
            ],
            [
             0.8,
             "#7fbc41"
            ],
            [
             0.9,
             "#4d9221"
            ],
            [
             1,
             "#276419"
            ]
           ],
           "sequential": [
            [
             0,
             "#0d0887"
            ],
            [
             0.1111111111111111,
             "#46039f"
            ],
            [
             0.2222222222222222,
             "#7201a8"
            ],
            [
             0.3333333333333333,
             "#9c179e"
            ],
            [
             0.4444444444444444,
             "#bd3786"
            ],
            [
             0.5555555555555556,
             "#d8576b"
            ],
            [
             0.6666666666666666,
             "#ed7953"
            ],
            [
             0.7777777777777778,
             "#fb9f3a"
            ],
            [
             0.8888888888888888,
             "#fdca26"
            ],
            [
             1,
             "#f0f921"
            ]
           ],
           "sequentialminus": [
            [
             0,
             "#0d0887"
            ],
            [
             0.1111111111111111,
             "#46039f"
            ],
            [
             0.2222222222222222,
             "#7201a8"
            ],
            [
             0.3333333333333333,
             "#9c179e"
            ],
            [
             0.4444444444444444,
             "#bd3786"
            ],
            [
             0.5555555555555556,
             "#d8576b"
            ],
            [
             0.6666666666666666,
             "#ed7953"
            ],
            [
             0.7777777777777778,
             "#fb9f3a"
            ],
            [
             0.8888888888888888,
             "#fdca26"
            ],
            [
             1,
             "#f0f921"
            ]
           ]
          },
          "colorway": [
           "#636efa",
           "#EF553B",
           "#00cc96",
           "#ab63fa",
           "#FFA15A",
           "#19d3f3",
           "#FF6692",
           "#B6E880",
           "#FF97FF",
           "#FECB52"
          ],
          "font": {
           "color": "#2a3f5f"
          },
          "geo": {
           "bgcolor": "white",
           "lakecolor": "white",
           "landcolor": "#E5ECF6",
           "showlakes": true,
           "showland": true,
           "subunitcolor": "white"
          },
          "hoverlabel": {
           "align": "left"
          },
          "hovermode": "closest",
          "mapbox": {
           "style": "light"
          },
          "paper_bgcolor": "white",
          "plot_bgcolor": "#E5ECF6",
          "polar": {
           "angularaxis": {
            "gridcolor": "white",
            "linecolor": "white",
            "ticks": ""
           },
           "bgcolor": "#E5ECF6",
           "radialaxis": {
            "gridcolor": "white",
            "linecolor": "white",
            "ticks": ""
           }
          },
          "scene": {
           "xaxis": {
            "backgroundcolor": "#E5ECF6",
            "gridcolor": "white",
            "gridwidth": 2,
            "linecolor": "white",
            "showbackground": true,
            "ticks": "",
            "zerolinecolor": "white"
           },
           "yaxis": {
            "backgroundcolor": "#E5ECF6",
            "gridcolor": "white",
            "gridwidth": 2,
            "linecolor": "white",
            "showbackground": true,
            "ticks": "",
            "zerolinecolor": "white"
           },
           "zaxis": {
            "backgroundcolor": "#E5ECF6",
            "gridcolor": "white",
            "gridwidth": 2,
            "linecolor": "white",
            "showbackground": true,
            "ticks": "",
            "zerolinecolor": "white"
           }
          },
          "shapedefaults": {
           "line": {
            "color": "#2a3f5f"
           }
          },
          "ternary": {
           "aaxis": {
            "gridcolor": "white",
            "linecolor": "white",
            "ticks": ""
           },
           "baxis": {
            "gridcolor": "white",
            "linecolor": "white",
            "ticks": ""
           },
           "bgcolor": "#E5ECF6",
           "caxis": {
            "gridcolor": "white",
            "linecolor": "white",
            "ticks": ""
           }
          },
          "title": {
           "x": 0.05
          },
          "xaxis": {
           "automargin": true,
           "gridcolor": "white",
           "linecolor": "white",
           "ticks": "",
           "title": {
            "standoff": 15
           },
           "zerolinecolor": "white",
           "zerolinewidth": 2
          },
          "yaxis": {
           "automargin": true,
           "gridcolor": "white",
           "linecolor": "white",
           "ticks": "",
           "title": {
            "standoff": 15
           },
           "zerolinecolor": "white",
           "zerolinewidth": 2
          }
         }
        },
        "title": {
         "font": {
          "color": "black",
          "size": 24
         },
         "text": "Strongest Emotion per frame",
         "x": 0.5,
         "y": 0.9,
         "yanchor": "middle"
        },
        "xaxis": {
         "anchor": "y",
         "domain": [
          0,
          1
         ],
         "title": {
          "text": "Frame"
         }
        },
        "yaxis": {
         "anchor": "x",
         "domain": [
          0,
          1
         ],
         "title": {
          "text": "Probability"
         }
        }
       }
      }
     },
     "metadata": {},
     "output_type": "display_data"
    }
   ],
   "source": [
    "fig = get_strongest_emotions_plot(df)\n",
    "fig.show()"
   ]
  }
 ],
 "metadata": {
  "kernelspec": {
   "display_name": ".venv",
   "language": "python",
   "name": "python3"
  },
  "language_info": {
   "codemirror_mode": {
    "name": "ipython",
    "version": 3
   },
   "file_extension": ".py",
   "mimetype": "text/x-python",
   "name": "python",
   "nbconvert_exporter": "python",
   "pygments_lexer": "ipython3",
   "version": "3.9.8"
  },
  "orig_nbformat": 4
 },
 "nbformat": 4,
 "nbformat_minor": 2
}
